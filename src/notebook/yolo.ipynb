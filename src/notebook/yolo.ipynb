{
 "cells": [
  {
   "cell_type": "code",
   "execution_count": 27,
   "metadata": {},
   "outputs": [],
   "source": [
    "import torch\n",
    "import cv2\n",
    "from pathlib import Path\n",
    "import logging"
   ]
  },
  {
   "cell_type": "code",
   "execution_count": 28,
   "metadata": {},
   "outputs": [
    {
     "name": "stdout",
     "output_type": "stream",
     "text": [
      "[Errno 2] No such file or directory: 'yolov5'\n",
      "/Users/junior/Documents/Tenx/Karab_Solutions/src/notebook/yolov5\n"
     ]
    }
   ],
   "source": [
    "%cd yolov5"
   ]
  },
  {
   "cell_type": "code",
   "execution_count": 29,
   "metadata": {},
   "outputs": [
    {
     "name": "stdout",
     "output_type": "stream",
     "text": [
      "\u001b[34m\u001b[1mdetect: \u001b[0mweights=yolov5s.pt, source=data/telegram_images/, data=data/coco128.yaml, imgsz=[640, 640], conf_thres=0.25, iou_thres=0.45, max_det=1000, device=, view_img=False, save_txt=True, save_format=0, save_csv=False, save_conf=True, save_crop=False, nosave=False, classes=None, agnostic_nms=False, augment=False, visualize=False, update=False, project=results, name=run1, exist_ok=False, line_thickness=3, hide_labels=False, hide_conf=False, half=False, dnn=False, vid_stride=1\n",
      "YOLOv5 🚀 v7.0-374-g94a62456 Python-3.12.3 torch-2.4.1 CPU\n",
      "\n",
      "Fusing layers... \n",
      "YOLOv5s summary: 213 layers, 7225885 parameters, 0 gradients, 16.4 GFLOPs\n",
      "image 1/99 /Users/junior/Documents/Tenx/Karab_Solutions/src/notebook/yolov5/data/telegram_images/12406.jpg: 640x640 (no detections), 126.5ms\n",
      "image 2/99 /Users/junior/Documents/Tenx/Karab_Solutions/src/notebook/yolov5/data/telegram_images/12407.jpg: 640x640 (no detections), 110.9ms\n",
      "image 3/99 /Users/junior/Documents/Tenx/Karab_Solutions/src/notebook/yolov5/data/telegram_images/12408.jpg: 640x640 (no detections), 102.4ms\n",
      "image 4/99 /Users/junior/Documents/Tenx/Karab_Solutions/src/notebook/yolov5/data/telegram_images/12409.jpg: 640x640 (no detections), 112.3ms\n",
      "image 5/99 /Users/junior/Documents/Tenx/Karab_Solutions/src/notebook/yolov5/data/telegram_images/12410.jpg: 640x640 (no detections), 123.3ms\n",
      "image 6/99 /Users/junior/Documents/Tenx/Karab_Solutions/src/notebook/yolov5/data/telegram_images/12411.jpg: 640x640 (no detections), 105.4ms\n",
      "image 7/99 /Users/junior/Documents/Tenx/Karab_Solutions/src/notebook/yolov5/data/telegram_images/12412.jpg: 640x640 (no detections), 98.2ms\n",
      "image 8/99 /Users/junior/Documents/Tenx/Karab_Solutions/src/notebook/yolov5/data/telegram_images/12413.jpg: 640x480 (no detections), 76.4ms\n",
      "image 9/99 /Users/junior/Documents/Tenx/Karab_Solutions/src/notebook/yolov5/data/telegram_images/12414.jpg: 640x640 (no detections), 100.9ms\n",
      "image 10/99 /Users/junior/Documents/Tenx/Karab_Solutions/src/notebook/yolov5/data/telegram_images/12415.jpg: 640x640 1 person, 94.8ms\n",
      "image 11/99 /Users/junior/Documents/Tenx/Karab_Solutions/src/notebook/yolov5/data/telegram_images/12416.jpg: 640x640 (no detections), 92.8ms\n",
      "image 12/99 /Users/junior/Documents/Tenx/Karab_Solutions/src/notebook/yolov5/data/telegram_images/12417.jpg: 640x640 (no detections), 94.7ms\n",
      "image 13/99 /Users/junior/Documents/Tenx/Karab_Solutions/src/notebook/yolov5/data/telegram_images/12418.jpg: 640x640 (no detections), 98.2ms\n",
      "image 14/99 /Users/junior/Documents/Tenx/Karab_Solutions/src/notebook/yolov5/data/telegram_images/12419.jpg: 640x640 (no detections), 98.7ms\n",
      "image 15/99 /Users/junior/Documents/Tenx/Karab_Solutions/src/notebook/yolov5/data/telegram_images/12420.jpg: 640x640 (no detections), 99.0ms\n",
      "image 16/99 /Users/junior/Documents/Tenx/Karab_Solutions/src/notebook/yolov5/data/telegram_images/12421.jpg: 640x640 (no detections), 98.4ms\n",
      "image 17/99 /Users/junior/Documents/Tenx/Karab_Solutions/src/notebook/yolov5/data/telegram_images/12423.jpg: 640x640 (no detections), 93.4ms\n",
      "image 18/99 /Users/junior/Documents/Tenx/Karab_Solutions/src/notebook/yolov5/data/telegram_images/12424.jpg: 480x640 (no detections), 72.6ms\n",
      "image 19/99 /Users/junior/Documents/Tenx/Karab_Solutions/src/notebook/yolov5/data/telegram_images/12425.jpg: 640x640 (no detections), 101.9ms\n",
      "image 20/99 /Users/junior/Documents/Tenx/Karab_Solutions/src/notebook/yolov5/data/telegram_images/12426.jpg: 640x640 (no detections), 95.8ms\n",
      "image 21/99 /Users/junior/Documents/Tenx/Karab_Solutions/src/notebook/yolov5/data/telegram_images/12427.jpg: 640x640 (no detections), 95.5ms\n",
      "image 22/99 /Users/junior/Documents/Tenx/Karab_Solutions/src/notebook/yolov5/data/telegram_images/12428.jpg: 640x640 (no detections), 95.3ms\n",
      "image 23/99 /Users/junior/Documents/Tenx/Karab_Solutions/src/notebook/yolov5/data/telegram_images/12429.jpg: 480x640 1 vase, 80.2ms\n",
      "image 24/99 /Users/junior/Documents/Tenx/Karab_Solutions/src/notebook/yolov5/data/telegram_images/12430.jpg: 640x640 1 knife, 105.1ms\n",
      "image 25/99 /Users/junior/Documents/Tenx/Karab_Solutions/src/notebook/yolov5/data/telegram_images/12431.jpg: 640x640 1 bowl, 101.2ms\n",
      "image 26/99 /Users/junior/Documents/Tenx/Karab_Solutions/src/notebook/yolov5/data/telegram_images/12432.jpg: 640x608 4 oranges, 92.4ms\n",
      "image 27/99 /Users/junior/Documents/Tenx/Karab_Solutions/src/notebook/yolov5/data/telegram_images/12433.jpg: 640x544 1 cup, 84.7ms\n",
      "image 28/99 /Users/junior/Documents/Tenx/Karab_Solutions/src/notebook/yolov5/data/telegram_images/12434.jpg: 480x640 (no detections), 76.0ms\n",
      "image 29/99 /Users/junior/Documents/Tenx/Karab_Solutions/src/notebook/yolov5/data/telegram_images/12435.jpg: 640x640 1 parking meter, 1 cup, 97.1ms\n",
      "image 30/99 /Users/junior/Documents/Tenx/Karab_Solutions/src/notebook/yolov5/data/telegram_images/12436.jpg: 640x640 (no detections), 108.7ms\n",
      "image 31/99 /Users/junior/Documents/Tenx/Karab_Solutions/src/notebook/yolov5/data/telegram_images/12437.jpg: 640x640 1 bottle, 128.8ms\n",
      "image 32/99 /Users/junior/Documents/Tenx/Karab_Solutions/src/notebook/yolov5/data/telegram_images/12438.jpg: 640x640 (no detections), 101.8ms\n",
      "image 33/99 /Users/junior/Documents/Tenx/Karab_Solutions/src/notebook/yolov5/data/telegram_images/12439.jpg: 640x640 1 person, 1 bowl, 2 bananas, 112.4ms\n",
      "image 34/99 /Users/junior/Documents/Tenx/Karab_Solutions/src/notebook/yolov5/data/telegram_images/12440.jpg: 640x640 1 vase, 95.6ms\n",
      "image 35/99 /Users/junior/Documents/Tenx/Karab_Solutions/src/notebook/yolov5/data/telegram_images/12441.jpg: 640x640 (no detections), 94.7ms\n",
      "image 36/99 /Users/junior/Documents/Tenx/Karab_Solutions/src/notebook/yolov5/data/telegram_images/12442.jpg: 640x544 (no detections), 79.7ms\n",
      "image 37/99 /Users/junior/Documents/Tenx/Karab_Solutions/src/notebook/yolov5/data/telegram_images/12443.jpg: 640x640 (no detections), 100.7ms\n",
      "image 38/99 /Users/junior/Documents/Tenx/Karab_Solutions/src/notebook/yolov5/data/telegram_images/12444.jpg: 640x640 (no detections), 94.0ms\n",
      "image 39/99 /Users/junior/Documents/Tenx/Karab_Solutions/src/notebook/yolov5/data/telegram_images/12445.jpg: 640x512 1 bowl, 122.8ms\n",
      "image 40/99 /Users/junior/Documents/Tenx/Karab_Solutions/src/notebook/yolov5/data/telegram_images/12446.jpg: 640x640 (no detections), 95.8ms\n",
      "image 41/99 /Users/junior/Documents/Tenx/Karab_Solutions/src/notebook/yolov5/data/telegram_images/12447.jpg: 640x640 1 person, 1 book, 103.0ms\n",
      "image 42/99 /Users/junior/Documents/Tenx/Karab_Solutions/src/notebook/yolov5/data/telegram_images/12448.jpg: 640x640 1 person, 101.6ms\n",
      "image 43/99 /Users/junior/Documents/Tenx/Karab_Solutions/src/notebook/yolov5/data/telegram_images/12449.jpg: 640x640 (no detections), 94.5ms\n",
      "image 44/99 /Users/junior/Documents/Tenx/Karab_Solutions/src/notebook/yolov5/data/telegram_images/12450.jpg: 640x640 (no detections), 101.0ms\n",
      "image 45/99 /Users/junior/Documents/Tenx/Karab_Solutions/src/notebook/yolov5/data/telegram_images/12451.jpg: 640x640 (no detections), 98.0ms\n",
      "image 46/99 /Users/junior/Documents/Tenx/Karab_Solutions/src/notebook/yolov5/data/telegram_images/12452.jpg: 640x640 (no detections), 98.5ms\n",
      "image 47/99 /Users/junior/Documents/Tenx/Karab_Solutions/src/notebook/yolov5/data/telegram_images/12453.jpg: 640x640 (no detections), 94.4ms\n",
      "image 48/99 /Users/junior/Documents/Tenx/Karab_Solutions/src/notebook/yolov5/data/telegram_images/12454.jpg: 640x640 1 person, 95.7ms\n",
      "image 49/99 /Users/junior/Documents/Tenx/Karab_Solutions/src/notebook/yolov5/data/telegram_images/12455.jpg: 640x640 (no detections), 97.0ms\n",
      "image 50/99 /Users/junior/Documents/Tenx/Karab_Solutions/src/notebook/yolov5/data/telegram_images/12456.jpg: 640x640 (no detections), 96.3ms\n",
      "image 51/99 /Users/junior/Documents/Tenx/Karab_Solutions/src/notebook/yolov5/data/telegram_images/12457.jpg: 640x640 1 cup, 96.5ms\n",
      "image 52/99 /Users/junior/Documents/Tenx/Karab_Solutions/src/notebook/yolov5/data/telegram_images/12458.jpg: 640x640 (no detections), 93.9ms\n",
      "image 53/99 /Users/junior/Documents/Tenx/Karab_Solutions/src/notebook/yolov5/data/telegram_images/12459.jpg: 640x640 (no detections), 94.0ms\n",
      "image 54/99 /Users/junior/Documents/Tenx/Karab_Solutions/src/notebook/yolov5/data/telegram_images/12460.jpg: 640x640 1 person, 97.1ms\n",
      "image 55/99 /Users/junior/Documents/Tenx/Karab_Solutions/src/notebook/yolov5/data/telegram_images/12461.jpg: 640x640 1 book, 105.2ms\n",
      "image 56/99 /Users/junior/Documents/Tenx/Karab_Solutions/src/notebook/yolov5/data/telegram_images/12462.jpg: 640x640 2 bottles, 1 refrigerator, 98.0ms\n",
      "image 57/99 /Users/junior/Documents/Tenx/Karab_Solutions/src/notebook/yolov5/data/telegram_images/12463.jpg: 640x640 (no detections), 99.9ms\n",
      "image 58/99 /Users/junior/Documents/Tenx/Karab_Solutions/src/notebook/yolov5/data/telegram_images/12464.jpg: 640x640 (no detections), 95.9ms\n",
      "image 59/99 /Users/junior/Documents/Tenx/Karab_Solutions/src/notebook/yolov5/data/telegram_images/12465.jpg: 640x640 (no detections), 105.1ms\n",
      "image 60/99 /Users/junior/Documents/Tenx/Karab_Solutions/src/notebook/yolov5/data/telegram_images/12466.jpg: 640x640 (no detections), 102.2ms\n",
      "image 61/99 /Users/junior/Documents/Tenx/Karab_Solutions/src/notebook/yolov5/data/telegram_images/12467.jpg: 640x544 1 cup, 84.8ms\n",
      "image 62/99 /Users/junior/Documents/Tenx/Karab_Solutions/src/notebook/yolov5/data/telegram_images/12468.jpg: 640x640 1 bottle, 98.0ms\n",
      "image 63/99 /Users/junior/Documents/Tenx/Karab_Solutions/src/notebook/yolov5/data/telegram_images/12469.jpg: 640x640 (no detections), 111.0ms\n",
      "image 64/99 /Users/junior/Documents/Tenx/Karab_Solutions/src/notebook/yolov5/data/telegram_images/12470.jpg: 640x640 1 bottle, 124.2ms\n",
      "image 65/99 /Users/junior/Documents/Tenx/Karab_Solutions/src/notebook/yolov5/data/telegram_images/12471.jpg: 640x640 1 person, 99.9ms\n",
      "image 66/99 /Users/junior/Documents/Tenx/Karab_Solutions/src/notebook/yolov5/data/telegram_images/12472.jpg: 640x480 1 person, 72.3ms\n",
      "image 67/99 /Users/junior/Documents/Tenx/Karab_Solutions/src/notebook/yolov5/data/telegram_images/12473.jpg: 640x448 (no detections), 68.4ms\n",
      "image 68/99 /Users/junior/Documents/Tenx/Karab_Solutions/src/notebook/yolov5/data/telegram_images/12474.jpg: 640x640 (no detections), 97.6ms\n",
      "image 69/99 /Users/junior/Documents/Tenx/Karab_Solutions/src/notebook/yolov5/data/telegram_images/12475.jpg: 640x640 1 bottle, 94.1ms\n",
      "image 70/99 /Users/junior/Documents/Tenx/Karab_Solutions/src/notebook/yolov5/data/telegram_images/12476.jpg: 640x640 (no detections), 97.3ms\n",
      "image 71/99 /Users/junior/Documents/Tenx/Karab_Solutions/src/notebook/yolov5/data/telegram_images/12477.jpg: 640x640 (no detections), 103.4ms\n",
      "image 72/99 /Users/junior/Documents/Tenx/Karab_Solutions/src/notebook/yolov5/data/telegram_images/12478.jpg: 640x640 (no detections), 102.2ms\n",
      "image 73/99 /Users/junior/Documents/Tenx/Karab_Solutions/src/notebook/yolov5/data/telegram_images/12479.jpg: 640x640 1 cup, 93.6ms\n",
      "image 74/99 /Users/junior/Documents/Tenx/Karab_Solutions/src/notebook/yolov5/data/telegram_images/12480.jpg: 640x640 1 person, 1 book, 98.9ms\n",
      "image 75/99 /Users/junior/Documents/Tenx/Karab_Solutions/src/notebook/yolov5/data/telegram_images/12481.jpg: 640x640 (no detections), 120.1ms\n",
      "image 76/99 /Users/junior/Documents/Tenx/Karab_Solutions/src/notebook/yolov5/data/telegram_images/12482.jpg: 640x512 (no detections), 84.1ms\n",
      "image 77/99 /Users/junior/Documents/Tenx/Karab_Solutions/src/notebook/yolov5/data/telegram_images/12483.jpg: 640x640 (no detections), 109.2ms\n",
      "image 78/99 /Users/junior/Documents/Tenx/Karab_Solutions/src/notebook/yolov5/data/telegram_images/12484.jpg: 640x640 (no detections), 98.6ms\n",
      "image 79/99 /Users/junior/Documents/Tenx/Karab_Solutions/src/notebook/yolov5/data/telegram_images/12485.jpg: 640x640 (no detections), 98.0ms\n",
      "image 80/99 /Users/junior/Documents/Tenx/Karab_Solutions/src/notebook/yolov5/data/telegram_images/12486.jpg: 480x640 (no detections), 76.8ms\n",
      "image 81/99 /Users/junior/Documents/Tenx/Karab_Solutions/src/notebook/yolov5/data/telegram_images/12487.jpg: 640x640 (no detections), 101.2ms\n",
      "image 82/99 /Users/junior/Documents/Tenx/Karab_Solutions/src/notebook/yolov5/data/telegram_images/12488.jpg: 640x640 (no detections), 96.3ms\n",
      "image 83/99 /Users/junior/Documents/Tenx/Karab_Solutions/src/notebook/yolov5/data/telegram_images/12489.jpg: 640x640 (no detections), 97.0ms\n",
      "image 84/99 /Users/junior/Documents/Tenx/Karab_Solutions/src/notebook/yolov5/data/telegram_images/12490.jpg: 640x640 (no detections), 95.1ms\n",
      "image 85/99 /Users/junior/Documents/Tenx/Karab_Solutions/src/notebook/yolov5/data/telegram_images/12491.jpg: 640x448 (no detections), 66.7ms\n",
      "image 86/99 /Users/junior/Documents/Tenx/Karab_Solutions/src/notebook/yolov5/data/telegram_images/12492.jpg: 640x640 (no detections), 98.5ms\n",
      "image 87/99 /Users/junior/Documents/Tenx/Karab_Solutions/src/notebook/yolov5/data/telegram_images/12493.jpg: 640x640 1 bottle, 95.2ms\n",
      "image 88/99 /Users/junior/Documents/Tenx/Karab_Solutions/src/notebook/yolov5/data/telegram_images/12494.jpg: 640x640 1 bottle, 103.2ms\n",
      "image 89/99 /Users/junior/Documents/Tenx/Karab_Solutions/src/notebook/yolov5/data/telegram_images/12495.jpg: 640x640 1 bottle, 92.7ms\n",
      "image 90/99 /Users/junior/Documents/Tenx/Karab_Solutions/src/notebook/yolov5/data/telegram_images/12496.jpg: 640x640 (no detections), 99.2ms\n",
      "image 91/99 /Users/junior/Documents/Tenx/Karab_Solutions/src/notebook/yolov5/data/telegram_images/12497.jpg: 640x640 (no detections), 96.3ms\n",
      "image 92/99 /Users/junior/Documents/Tenx/Karab_Solutions/src/notebook/yolov5/data/telegram_images/12498.jpg: 640x640 (no detections), 96.7ms\n",
      "image 93/99 /Users/junior/Documents/Tenx/Karab_Solutions/src/notebook/yolov5/data/telegram_images/12499.jpg: 640x640 (no detections), 99.6ms\n",
      "image 94/99 /Users/junior/Documents/Tenx/Karab_Solutions/src/notebook/yolov5/data/telegram_images/12500.jpg: 640x640 (no detections), 98.5ms\n",
      "image 95/99 /Users/junior/Documents/Tenx/Karab_Solutions/src/notebook/yolov5/data/telegram_images/12501.jpg: 640x640 (no detections), 98.1ms\n",
      "image 96/99 /Users/junior/Documents/Tenx/Karab_Solutions/src/notebook/yolov5/data/telegram_images/12502.jpg: 640x640 (no detections), 100.6ms\n",
      "image 97/99 /Users/junior/Documents/Tenx/Karab_Solutions/src/notebook/yolov5/data/telegram_images/12503.jpg: 640x480 (no detections), 115.5ms\n",
      "image 98/99 /Users/junior/Documents/Tenx/Karab_Solutions/src/notebook/yolov5/data/telegram_images/12504.jpg: 640x640 1 person, 100.6ms\n",
      "image 99/99 /Users/junior/Documents/Tenx/Karab_Solutions/src/notebook/yolov5/data/telegram_images/12505.jpg: 640x640 1 parking meter, 1 cup, 101.0ms\n",
      "Speed: 0.5ms pre-process, 98.1ms inference, 0.7ms NMS per image at shape (1, 3, 640, 640)\n",
      "Results saved to \u001b[1mresults/run112\u001b[0m\n",
      "31 labels saved to results/run112/labels\n"
     ]
    }
   ],
   "source": [
    "!python detect.py --source data/telegram_images/ --save-txt --save-conf --project results --name run1\n"
   ]
  }
 ],
 "metadata": {
  "kernelspec": {
   "display_name": ".venv",
   "language": "python",
   "name": "python3"
  },
  "language_info": {
   "codemirror_mode": {
    "name": "ipython",
    "version": 3
   },
   "file_extension": ".py",
   "mimetype": "text/x-python",
   "name": "python",
   "nbconvert_exporter": "python",
   "pygments_lexer": "ipython3",
   "version": "3.12.3"
  }
 },
 "nbformat": 4,
 "nbformat_minor": 2
}
